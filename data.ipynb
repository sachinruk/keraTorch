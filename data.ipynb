{
 "cells": [
  {
   "cell_type": "markdown",
   "metadata": {},
   "source": [
    "# Data\n",
    "> Functions used to create pytorch `DataSet`s and `DataLoader`s."
   ]
  },
  {
   "cell_type": "code",
   "execution_count": 1,
   "metadata": {},
   "outputs": [],
   "source": [
    "# default_exp data"
   ]
  },
  {
   "cell_type": "code",
   "execution_count": 2,
   "metadata": {},
   "outputs": [],
   "source": [
    "# export\n",
    "import torch\n",
    "from torch.utils.data import Dataset, DataLoader\n",
    "from fastai.data_block import DataBunch, DatasetType\n",
    "\n",
    "from sklearn.model_selection import train_test_split\n",
    "\n",
    "# import warnings\n",
    "\n",
    "# torch.Tensor.ndim = property(lambda x: x.dim())\n",
    "# tt = torch.Tensor"
   ]
  },
  {
   "cell_type": "code",
   "execution_count": 3,
   "metadata": {},
   "outputs": [],
   "source": [
    "# export\n",
    "class Data(Dataset):\n",
    "    \"\"\"\n",
    "    Load raw x,y data\n",
    "    \"\"\"\n",
    "    def __init__(self, *args):\n",
    "        super().__init__()\n",
    "        self.data = args\n",
    "        \n",
    "    def __len__(self):\n",
    "        return len(self.data[0])\n",
    "    \n",
    "    def __getitem__(self, i):\n",
    "        return {f'arg_{i}': torch.Tensor([x[i]]) \n",
    "                for i, x in enumerate(self.data)}"
   ]
  },
  {
   "cell_type": "code",
   "execution_count": 4,
   "metadata": {},
   "outputs": [],
   "source": [
    "# export\n",
    "class TrainData(Dataset):\n",
    "    \"\"\"\n",
    "    Load raw x,y data\n",
    "    \"\"\"\n",
    "    def __init__(self, x, y):\n",
    "        super().__init__()\n",
    "        self.x, self.y = x, y\n",
    "        \n",
    "    def __len__(self):\n",
    "        return len(self.x)\n",
    "    \n",
    "    def __getitem__(self, i):\n",
    "        return torch.tensor(self.x[i]), torch.tensor(self.y[i])\n",
    "    \n",
    "\n",
    "class TestData(Dataset):\n",
    "    \"\"\"\n",
    "    Load raw x,y data\n",
    "    \"\"\"\n",
    "    def __init__(self, x):\n",
    "        super().__init__()\n",
    "        self.x = x\n",
    "        \n",
    "    def __len__(self):\n",
    "        return len(self.x)\n",
    "    \n",
    "    def __getitem__(self, i):\n",
    "        return torch.tensor(self.x[i])"
   ]
  },
  {
   "cell_type": "code",
   "execution_count": 7,
   "metadata": {},
   "outputs": [
    {
     "data": {
      "text/plain": [
       "(tensor([-0.9254, -2.5888, -0.7599], dtype=torch.float64),\n",
       " tensor([-0.0141], dtype=torch.float64))"
      ]
     },
     "execution_count": 7,
     "metadata": {},
     "output_type": "execute_result"
    }
   ],
   "source": [
    "import numpy as np\n",
    "\n",
    "x = np.random.randn(100, 3)\n",
    "y = np.random.randn(100, 1)\n",
    "train_ds = TrainData(x, y)\n",
    "\n",
    "train_ds[99]"
   ]
  },
  {
   "cell_type": "code",
   "execution_count": 8,
   "metadata": {},
   "outputs": [],
   "source": [
    "# export\n",
    "def create_db(x, y, train_size=0.8, bs=96, random_state=42):\n",
    "    \"\"\"\n",
    "    Take dataframe and convert to Fastai databunch\n",
    "    \"\"\"\n",
    "    X_train, X_test, y_train, y_test = train_test_split(x, y, train_size=train_size)\n",
    "    \n",
    "    train_ds = TrainData(X_train, y_train)\n",
    "    val_ds = TrainData(X_test, y_test)\n",
    "    \n",
    "    bs = min(bs, len(train_ds))\n",
    "    val_bs = min(bs, len(val_ds))\n",
    "    \n",
    "    train_dl = DataLoader(train_ds, bs)\n",
    "    val_dl = DataLoader(val_ds, val_bs)\n",
    "\n",
    "    return DataBunch(train_dl, val_dl)"
   ]
  },
  {
   "cell_type": "code",
   "execution_count": 9,
   "metadata": {},
   "outputs": [],
   "source": [
    "x = np.random.randn(100, 3)\n",
    "y = np.random.randn(100, 1)\n",
    "db = create_db(x,y, bs=10)"
   ]
  },
  {
   "cell_type": "code",
   "execution_count": 10,
   "metadata": {},
   "outputs": [
    {
     "data": {
      "text/plain": [
       "[torch.Size([10, 3]), torch.Size([10, 1])]"
      ]
     },
     "execution_count": 10,
     "metadata": {},
     "output_type": "execute_result"
    }
   ],
   "source": [
    "[x.shape for x in db.one_batch()]"
   ]
  },
  {
   "cell_type": "code",
   "execution_count": 11,
   "metadata": {},
   "outputs": [
    {
     "name": "stdout",
     "output_type": "stream",
     "text": [
      "Converted 00_core.ipynb.\n",
      "Converted data.ipynb.\n",
      "Converted index.ipynb.\n"
     ]
    }
   ],
   "source": [
    "# hide\n",
    "from nbdev.export import *\n",
    "notebook2script()"
   ]
  },
  {
   "cell_type": "code",
   "execution_count": null,
   "metadata": {},
   "outputs": [],
   "source": []
  }
 ],
 "metadata": {
  "kernelspec": {
   "display_name": "Python 3",
   "language": "python",
   "name": "python3"
  },
  "language_info": {
   "codemirror_mode": {
    "name": "ipython",
    "version": 3
   },
   "file_extension": ".py",
   "mimetype": "text/x-python",
   "name": "python",
   "nbconvert_exporter": "python",
   "pygments_lexer": "ipython3",
   "version": "3.7.6"
  }
 },
 "nbformat": 4,
 "nbformat_minor": 4
}
