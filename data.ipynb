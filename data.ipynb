{
 "cells": [
  {
   "cell_type": "markdown",
   "metadata": {},
   "source": [
    "# Data\n",
    "> Functions used to create pytorch `DataSet`s and `DataLoader`s."
   ]
  },
  {
   "cell_type": "code",
   "execution_count": 1,
   "metadata": {},
   "outputs": [],
   "source": [
    "# default_exp data"
   ]
  },
  {
   "cell_type": "code",
   "execution_count": 2,
   "metadata": {},
   "outputs": [],
   "source": [
    "# export\n",
    "import torch\n",
    "from torch.utils.data import Dataset, DataLoader\n",
    "from fastai.data_block import DataBunch, DatasetType\n",
    "\n",
    "from sklearn.model_selection import train_test_split\n",
    "\n",
    "# import warnings\n",
    "\n",
    "# torch.Tensor.ndim = property(lambda x: x.dim())\n",
    "# tt = torch.Tensor"
   ]
  },
  {
   "cell_type": "code",
   "execution_count": 3,
   "metadata": {},
   "outputs": [],
   "source": [
    "# export\n",
    "class Data(Dataset):\n",
    "    \"\"\"\n",
    "    Load raw x,y data\n",
    "    \"\"\"\n",
    "    def __init__(self, *args):\n",
    "        super().__init__()\n",
    "        self.data = args\n",
    "        \n",
    "    def __len__(self):\n",
    "        return len(self.data[0])\n",
    "    \n",
    "    def __getitem__(self, i):\n",
    "        return {f'arg_{i}': torch.Tensor([x[i]]) \n",
    "                for i, x in enumerate(self.data)}"
   ]
  },
  {
   "cell_type": "code",
   "execution_count": 4,
   "metadata": {},
   "outputs": [],
   "source": [
    "# export\n",
    "class TestData(Dataset):\n",
    "    \"\"\"\n",
    "    Load raw x,y data\n",
    "    \"\"\"\n",
    "    def __init__(self, x):\n",
    "        super().__init__()\n",
    "        self.x = x\n",
    "        self.x_type = self.__get_type__(x.dtype.name)\n",
    "        \n",
    "    def __get_type__(self, type):\n",
    "        if type.startswith('float'):\n",
    "            return torch.float32\n",
    "        if type.startswith('int'):\n",
    "            return torch.long\n",
    "        \n",
    "    def __len__(self):\n",
    "        return len(self.x)\n",
    "    \n",
    "    def __getitem__(self, i):\n",
    "        return torch.tensor(self.x[i], dtype=torch.float32)\n",
    "\n",
    "class TrainData(TestData):\n",
    "    \"\"\"\n",
    "    Load raw x,y data\n",
    "    \"\"\"\n",
    "    def __init__(self, x, y):\n",
    "        super().__init__(x)\n",
    "        self.y = y\n",
    "        self.y_type = self.__get_type__(y.dtype.name)\n",
    "    \n",
    "    def __getitem__(self, i):\n",
    "        return torch.tensor(self.x[i], dtype=self.x_type), \\\n",
    "                torch.tensor(self.y[i], dtype=self.y_type)"
   ]
  },
  {
   "cell_type": "code",
   "execution_count": 5,
   "metadata": {},
   "outputs": [
    {
     "name": "stdout",
     "output_type": "stream",
     "text": [
      "tensor([-1.0572,  0.8800,  1.2648]) torch.float32\n",
      "tensor([1.3466]) torch.float32\n"
     ]
    }
   ],
   "source": [
    "import numpy as np\n",
    "\n",
    "x = np.random.randn(100, 3)\n",
    "y = np.random.randn(100, 1)\n",
    "train_ds = TrainData(x, y)\n",
    "\n",
    "x_elem, y_elem = train_ds[99]\n",
    "print(x_elem, x_elem.dtype)\n",
    "print(y_elem, y_elem.dtype)"
   ]
  },
  {
   "cell_type": "code",
   "execution_count": 6,
   "metadata": {},
   "outputs": [
    {
     "name": "stdout",
     "output_type": "stream",
     "text": [
      "tensor([-1.0572,  0.8800,  1.2648]) torch.float32\n",
      "tensor([1]) torch.int64\n"
     ]
    }
   ],
   "source": [
    "y = np.random.randint(0, 3, (100, 1))\n",
    "train_ds = TrainData(x, y)\n",
    "\n",
    "x_elem, y_elem = train_ds[99]\n",
    "print(x_elem, x_elem.dtype)\n",
    "print(y_elem, y_elem.dtype)"
   ]
  },
  {
   "cell_type": "code",
   "execution_count": 7,
   "metadata": {},
   "outputs": [],
   "source": [
    "# export\n",
    "def create_db(x, y, train_size=0.8, bs=96, random_state=42):\n",
    "    \"\"\"\n",
    "    Take dataframe and convert to Fastai databunch\n",
    "    \"\"\"\n",
    "    X_train, X_test, y_train, y_test = train_test_split(x, y, train_size=train_size)\n",
    "    \n",
    "    train_ds = TrainData(X_train, y_train)\n",
    "    val_ds = TrainData(X_test, y_test)\n",
    "    \n",
    "    bs = min(bs, len(train_ds))\n",
    "    val_bs = min(bs, len(val_ds))\n",
    "    \n",
    "    train_dl = DataLoader(train_ds, bs)\n",
    "    val_dl = DataLoader(val_ds, val_bs)\n",
    "\n",
    "    return DataBunch(train_dl, val_dl)"
   ]
  },
  {
   "cell_type": "code",
   "execution_count": 8,
   "metadata": {},
   "outputs": [],
   "source": [
    "x = np.random.randn(100, 3)\n",
    "y = np.random.randn(100, 1)\n",
    "db = create_db(x,y, bs=10)"
   ]
  },
  {
   "cell_type": "code",
   "execution_count": 9,
   "metadata": {},
   "outputs": [
    {
     "data": {
      "text/plain": [
       "[torch.Size([10, 3]), torch.Size([10, 1])]"
      ]
     },
     "execution_count": 9,
     "metadata": {},
     "output_type": "execute_result"
    }
   ],
   "source": [
    "[x.shape for x in db.one_batch()]"
   ]
  },
  {
   "cell_type": "code",
   "execution_count": 10,
   "metadata": {},
   "outputs": [
    {
     "name": "stdout",
     "output_type": "stream",
     "text": [
      "Converted Activations.ipynb.\n",
      "Converted Layers.ipynb.\n",
      "Converted Model.ipynb.\n",
      "Converted data.ipynb.\n",
      "Converted index.ipynb.\n"
     ]
    }
   ],
   "source": [
    "# hide\n",
    "from nbdev.export import *\n",
    "notebook2script()"
   ]
  },
  {
   "cell_type": "code",
   "execution_count": 11,
   "metadata": {},
   "outputs": [
    {
     "name": "stdout",
     "output_type": "stream",
     "text": [
      "# AUTOGENERATED! DO NOT EDIT! File to edit: data.ipynb (unless otherwise specified).\r\n",
      "\r\n",
      "__all__ = ['Data', 'TestData', 'TrainData', 'create_db']\r\n",
      "\r\n",
      "# Cell\r\n",
      "import torch\r\n",
      "from torch.utils.data import Dataset, DataLoader\r\n",
      "from fastai.data_block import DataBunch, DatasetType\r\n",
      "\r\n",
      "from sklearn.model_selection import train_test_split\r\n",
      "\r\n",
      "# import warnings\r\n",
      "\r\n",
      "# torch.Tensor.ndim = property(lambda x: x.dim())\r\n",
      "# tt = torch.Tensor\r\n",
      "\r\n",
      "# Cell\r\n",
      "class Data(Dataset):\r\n",
      "    \"\"\"\r\n",
      "    Load raw x,y data\r\n",
      "    \"\"\"\r\n",
      "    def __init__(self, *args):\r\n",
      "        super().__init__()\r\n",
      "        self.data = args\r\n",
      "\r\n",
      "    def __len__(self):\r\n",
      "        return len(self.data[0])\r\n",
      "\r\n",
      "    def __getitem__(self, i):\r\n",
      "        return {f'arg_{i}': torch.Tensor([x[i]])\r\n",
      "                for i, x in enumerate(self.data)}\r\n",
      "\r\n",
      "# Cell\r\n",
      "class TestData(Dataset):\r\n",
      "    \"\"\"\r\n",
      "    Load raw x,y data\r\n",
      "    \"\"\"\r\n",
      "    def __init__(self, x):\r\n",
      "        super().__init__()\r\n",
      "        self.x = x\r\n",
      "        self.x_type = self.__get_type__(x.dtype.name)\r\n",
      "\r\n",
      "    def __get_type__(self, type):\r\n",
      "        if type.startswith('float'):\r\n",
      "            return torch.float32\r\n",
      "        if type.startswith('int'):\r\n",
      "            return torch.long\r\n",
      "\r\n",
      "    def __len__(self):\r\n",
      "        return len(self.x)\r\n",
      "\r\n",
      "    def __getitem__(self, i):\r\n",
      "        return torch.tensor(self.x[i], dtype=torch.float32)\r\n",
      "\r\n",
      "class TrainData(TestData):\r\n",
      "    \"\"\"\r\n",
      "    Load raw x,y data\r\n",
      "    \"\"\"\r\n",
      "    def __init__(self, x, y):\r\n",
      "        super().__init__(x)\r\n",
      "        self.y = y\r\n",
      "        self.y_type = self.__get_type__(y.dtype.name)\r\n",
      "\r\n",
      "    def __getitem__(self, i):\r\n",
      "        return torch.tensor(self.x[i], dtype=self.x_type), \\\r\n",
      "                torch.tensor(self.y[i], dtype=self.y_type)\r\n",
      "\r\n",
      "# Cell\r\n",
      "def create_db(x, y, train_size=0.8, bs=96, random_state=42):\r\n",
      "    \"\"\"\r\n",
      "    Take dataframe and convert to Fastai databunch\r\n",
      "    \"\"\"\r\n",
      "    X_train, X_test, y_train, y_test = train_test_split(x, y, train_size=train_size)\r\n",
      "\r\n",
      "    train_ds = TrainData(X_train, y_train)\r\n",
      "    val_ds = TrainData(X_test, y_test)\r\n",
      "\r\n",
      "    bs = min(bs, len(train_ds))\r\n",
      "    val_bs = min(bs, len(val_ds))\r\n",
      "\r\n",
      "    train_dl = DataLoader(train_ds, bs)\r\n",
      "    val_dl = DataLoader(val_ds, val_bs)\r\n",
      "\r\n",
      "    return DataBunch(train_dl, val_dl)"
     ]
    }
   ],
   "source": [
    "!cat keraTorch/data.py"
   ]
  }
 ],
 "metadata": {
  "kernelspec": {
   "display_name": "Python 3",
   "language": "python",
   "name": "python3"
  },
  "language_info": {
   "codemirror_mode": {
    "name": "ipython",
    "version": 3
   },
   "file_extension": ".py",
   "mimetype": "text/x-python",
   "name": "python",
   "nbconvert_exporter": "python",
   "pygments_lexer": "ipython3",
   "version": "3.7.6"
  }
 },
 "nbformat": 4,
 "nbformat_minor": 4
}
