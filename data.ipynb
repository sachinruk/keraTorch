{
 "cells": [
  {
   "cell_type": "markdown",
   "metadata": {},
   "source": [
    "# Data\n",
    "> Functions used to create pytorch `DataSet`s and `DataLoader`s."
   ]
  },
  {
   "cell_type": "code",
   "execution_count": null,
   "metadata": {},
   "outputs": [],
   "source": [
    "# default_exp data"
   ]
  },
  {
   "cell_type": "code",
   "execution_count": null,
   "metadata": {},
   "outputs": [],
   "source": [
    "# export\n",
    "import torch\n",
    "from torch.utils.data import Dataset, DataLoader\n",
    "from fastai.data_block import DataBunch, DatasetType\n",
    "\n",
    "from sklearn.model_selection import train_test_split\n",
    "\n",
    "# import warnings\n",
    "\n",
    "# torch.Tensor.ndim = property(lambda x: x.dim())\n",
    "# tt = torch.Tensor"
   ]
  },
  {
   "cell_type": "code",
   "execution_count": null,
   "metadata": {},
   "outputs": [],
   "source": [
    "# export\n",
    "class Data(Dataset):\n",
    "    \"\"\"\n",
    "    Load raw x,y data\n",
    "    \"\"\"\n",
    "    def __init__(self, *args):\n",
    "        super().__init__()\n",
    "        self.data = args\n",
    "        \n",
    "    def __len__(self):\n",
    "        return len(self.data[0])\n",
    "    \n",
    "    def __getitem__(self, i):\n",
    "        return {f'arg_{i}': torch.Tensor([x[i]]) \n",
    "                for i, x in enumerate(self.data)}"
   ]
  },
  {
   "cell_type": "code",
   "execution_count": null,
   "metadata": {},
   "outputs": [
    {
     "data": {
      "text/plain": [
       "True"
      ]
     },
     "execution_count": null,
     "metadata": {},
     "output_type": "execute_result"
    }
   ],
   "source": [
    "'int' in 'uint8'"
   ]
  },
  {
   "cell_type": "code",
   "execution_count": null,
   "metadata": {},
   "outputs": [],
   "source": [
    "# export\n",
    "class TestData(Dataset):\n",
    "    \"\"\"\n",
    "    Load raw x,y data\n",
    "    \"\"\"\n",
    "    def __init__(self, x):\n",
    "        super().__init__()\n",
    "        self.x = x\n",
    "        self.x_type = self.__get_type__(x.dtype.name)\n",
    "        \n",
    "    def __get_type__(self, type):\n",
    "        if 'float' in type:\n",
    "            return torch.float32\n",
    "        if 'int' in type:\n",
    "            return torch.long\n",
    "        \n",
    "    def __len__(self):\n",
    "        return len(self.x)\n",
    "    \n",
    "    def __getitem__(self, i):\n",
    "        return torch.tensor(self.x[i], dtype=torch.float32)\n",
    "\n",
    "class TrainData(TestData):\n",
    "    \"\"\"\n",
    "    Load raw x,y data\n",
    "    \"\"\"\n",
    "    def __init__(self, x, y):\n",
    "        super().__init__(x)\n",
    "        self.y = y\n",
    "        self.y_type = self.__get_type__(y.dtype.name)\n",
    "    \n",
    "    def __getitem__(self, i):\n",
    "        return torch.tensor(self.x[i], dtype=torch.float32), \\\n",
    "                torch.tensor(self.y[i], dtype=self.y_type)"
   ]
  },
  {
   "cell_type": "code",
   "execution_count": null,
   "metadata": {},
   "outputs": [
    {
     "name": "stdout",
     "output_type": "stream",
     "text": [
      "tensor([ 0.5909, -1.1880,  0.0718]) torch.float32\n",
      "tensor([-1.3023]) torch.float32\n"
     ]
    }
   ],
   "source": [
    "import numpy as np\n",
    "\n",
    "x = np.random.randn(100, 3)\n",
    "y = np.random.randn(100, 1)\n",
    "train_ds = TrainData(x, y)\n",
    "\n",
    "x_elem, y_elem = train_ds[99]\n",
    "print(x_elem, x_elem.dtype)\n",
    "print(y_elem, y_elem.dtype)"
   ]
  },
  {
   "cell_type": "code",
   "execution_count": null,
   "metadata": {},
   "outputs": [
    {
     "name": "stdout",
     "output_type": "stream",
     "text": [
      "tensor([ 0.5909, -1.1880,  0.0718]) torch.float32\n",
      "tensor([2]) torch.int64\n"
     ]
    }
   ],
   "source": [
    "y = np.random.randint(0, 3, (100, 1))\n",
    "train_ds = TrainData(x, y)\n",
    "\n",
    "x_elem, y_elem = train_ds[99]\n",
    "print(x_elem, x_elem.dtype)\n",
    "print(y_elem, y_elem.dtype)"
   ]
  },
  {
   "cell_type": "code",
   "execution_count": null,
   "metadata": {},
   "outputs": [],
   "source": [
    "# export\n",
    "def create_db(x, y, train_size=0.8, bs=96, random_state=42):\n",
    "    \"\"\"\n",
    "    Take dataframe and convert to Fastai databunch\n",
    "    \"\"\"\n",
    "    X_train, X_test, y_train, y_test = train_test_split(x, y, train_size=train_size)\n",
    "    \n",
    "    train_ds = TrainData(X_train, y_train)\n",
    "    val_ds = TrainData(X_test, y_test)\n",
    "    \n",
    "    bs = min(bs, len(train_ds))\n",
    "    val_bs = min(bs, len(val_ds))\n",
    "    \n",
    "    train_dl = DataLoader(train_ds, bs)\n",
    "    val_dl = DataLoader(val_ds, val_bs)\n",
    "\n",
    "    return DataBunch(train_dl, val_dl)"
   ]
  },
  {
   "cell_type": "code",
   "execution_count": null,
   "metadata": {},
   "outputs": [],
   "source": [
    "x = np.random.randn(100, 3)\n",
    "y = np.random.randn(100, 1)\n",
    "db = create_db(x,y, bs=10)"
   ]
  },
  {
   "cell_type": "code",
   "execution_count": null,
   "metadata": {},
   "outputs": [
    {
     "data": {
      "text/plain": [
       "[torch.Size([10, 3]), torch.Size([10, 1])]"
      ]
     },
     "execution_count": null,
     "metadata": {},
     "output_type": "execute_result"
    }
   ],
   "source": [
    "[x.shape for x in db.one_batch()]"
   ]
  },
  {
   "cell_type": "code",
   "execution_count": null,
   "metadata": {},
   "outputs": [
    {
     "name": "stdout",
     "output_type": "stream",
     "text": [
      "Converted Activations.ipynb.\n",
      "Converted Layers.ipynb.\n",
      "Converted Model.ipynb.\n",
      "Converted cifar.ipynb.\n",
      "Converted data.ipynb.\n",
      "Converted index.ipynb.\n",
      "Converted losses.ipynb.\n"
     ]
    }
   ],
   "source": [
    "# hide\n",
    "from nbdev.export import *\n",
    "notebook2script()"
   ]
  }
 ],
 "metadata": {
  "kernelspec": {
   "display_name": "Python 3",
   "language": "python",
   "name": "python3"
  }
 },
 "nbformat": 4,
 "nbformat_minor": 4
}
