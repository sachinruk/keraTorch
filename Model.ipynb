{
 "cells": [
  {
   "cell_type": "code",
   "execution_count": null,
   "metadata": {},
   "outputs": [],
   "source": [
    "# default_exp model"
   ]
  },
  {
   "cell_type": "markdown",
   "metadata": {},
   "source": [
    "# Model\n",
    "> Model class to store pytorch model."
   ]
  },
  {
   "cell_type": "code",
   "execution_count": null,
   "metadata": {},
   "outputs": [],
   "source": [
    "%load_ext autoreload\n",
    "%autoreload 2"
   ]
  },
  {
   "cell_type": "code",
   "execution_count": null,
   "metadata": {},
   "outputs": [],
   "source": [
    "# export\n",
    "import torch\n",
    "import torch.nn as nn\n",
    "\n",
    "from functools import partial\n",
    "from fastai import *\n",
    "from fastai.basic_train import Learner\n",
    "\n",
    "from keraTorch.data import create_db\n",
    "from keraTorch.layers import *\n",
    "from keraTorch.losses import *\n",
    "\n",
    "from IPython.display import clear_output"
   ]
  },
  {
   "cell_type": "code",
   "execution_count": null,
   "metadata": {},
   "outputs": [],
   "source": [
    "# export\n",
    "class Sequential:\n",
    "    def __init__(self, model=None):\n",
    "        self.layers = []\n",
    "        self.last_dim = None\n",
    "        self.model = model\n",
    "        \n",
    "    def add(self, layer):\n",
    "        layer = layer.get_layer(self.last_dim)\n",
    "        self.last_dim = layer['output_dim']\n",
    "        self.layers.extend(layer['layers'])\n",
    "        \n",
    "    def compile(self, loss, optimizer=None):\n",
    "        if len(self.layers) > 0:\n",
    "            self.model = nn.Sequential(*self.layers)\n",
    "        self.loss = loss\n",
    "        \n",
    "    def fit(self, x, y, bs, epochs, lr=1e-3, one_cycle=True, get_lr=True):\n",
    "        db = create_db(x, y, bs=bs)\n",
    "        self.learn = Learner(db, self.model, loss_func=self.loss)\n",
    "        if one_cycle:\n",
    "            self.learn.fit_one_cycle(epochs, lr)\n",
    "        else:\n",
    "            self.learn.fit(epochs, lr)\n",
    "               \n",
    "    def lr_find(self, x, y, bs):\n",
    "        db = create_db(x, y, bs=bs)\n",
    "#         breakpoint()\n",
    "        learn = Learner(db, self.model, loss_func=self.loss)\n",
    "        learn.lr_find()\n",
    "        clear_output()\n",
    "        learn.recorder.plot(suggestion=True)\n",
    "        \n",
    "    def predict(self, x):\n",
    "        self.learn.model.eval()\n",
    "        with torch.no_grad():\n",
    "            y_preds = self.learn.model(torch.Tensor(x))\n",
    "        return y_preds.cpu().numpy()"
   ]
  },
  {
   "cell_type": "code",
   "execution_count": null,
   "metadata": {},
   "outputs": [
    {
     "name": "stdout",
     "output_type": "stream",
     "text": [
      "--2020-04-16 11:36:51--  http://archive.ics.uci.edu/ml/machine-learning-databases/iris/iris.data\n",
      "Resolving archive.ics.uci.edu (archive.ics.uci.edu)... 128.195.10.252\n",
      "Connecting to archive.ics.uci.edu (archive.ics.uci.edu)|128.195.10.252|:80... connected.\n",
      "HTTP request sent, awaiting response... 200 OK\n",
      "Length: 4551 (4.4K) [application/x-httpd-php]\n",
      "Saving to: ‘iris.csv’\n",
      "\n",
      "iris.csv            100%[===================>]   4.44K  --.-KB/s    in 0s      \n",
      "\n",
      "2020-04-16 11:36:51 (49.9 MB/s) - ‘iris.csv’ saved [4551/4551]\n",
      "\n"
     ]
    },
    {
     "data": {
      "text/plain": [
       "((150, 4), (150,), dtype('float64'), dtype('int8'))"
      ]
     },
     "execution_count": null,
     "metadata": {},
     "output_type": "execute_result"
    }
   ],
   "source": [
    "# hide\n",
    "!wget -O iris.csv http://archive.ics.uci.edu/ml/machine-learning-databases/iris/iris.data\n",
    "import pandas as pd\n",
    "data = pd.read_csv('./iris.csv', header=None)\n",
    "data[4] = data[4].astype('category').cat.codes\n",
    "!rm iris.csv\n",
    "x = data.drop(4, axis=1).values\n",
    "y = data[4].values\n",
    "x.shape, y.shape, x.dtype, y.dtype"
   ]
  },
  {
   "cell_type": "code",
   "execution_count": null,
   "metadata": {},
   "outputs": [],
   "source": [
    "model = Sequential()\n",
    "model.add(Dense(2, x.shape[1], activation='relu'))\n",
    "model.add(Dense(2, activation='relu'))\n",
    "model.add(Dense(len(set(y))))\n",
    "model.add(Activation('softmax'))\n",
    "\n",
    "model.compile(ce4softmax)"
   ]
  },
  {
   "cell_type": "code",
   "execution_count": null,
   "metadata": {},
   "outputs": [
    {
     "name": "stdout",
     "output_type": "stream",
     "text": [
      "Min numerical gradient: 4.79E-02\n",
      "Min loss divided by 10: 3.31E-01\n"
     ]
    },
    {
     "data": {
      "image/png": "[encoded data removed]",
      "text/plain": [
       "<Figure size 432x288 with 1 Axes>"
      ]
     },
     "metadata": {
      "needs_background": "light"
     },
     "output_type": "display_data"
    }
   ],
   "source": [
    "bs = 50\n",
    "model.lr_find(x, y, bs=bs)"
   ]
  },
  {
   "cell_type": "code",
   "execution_count": null,
   "metadata": {},
   "outputs": [
    {
     "data": {
      "text/html": [
       "<table border=\"1\" class=\"dataframe\">\n",
       "  <thead>\n",
       "    <tr style=\"text-align: left;\">\n",
       "      <th>epoch</th>\n",
       "      <th>train_loss</th>\n",
       "      <th>valid_loss</th>\n",
       "      <th>time</th>\n",
       "    </tr>\n",
       "  </thead>\n",
       "  <tbody>\n",
       "    <tr>\n",
       "      <td>0</td>\n",
       "      <td>1.190006</td>\n",
       "      <td>1.135400</td>\n",
       "      <td>00:00</td>\n",
       "    </tr>\n",
       "    <tr>\n",
       "      <td>1</td>\n",
       "      <td>1.152998</td>\n",
       "      <td>1.137829</td>\n",
       "      <td>00:00</td>\n",
       "    </tr>\n",
       "    <tr>\n",
       "      <td>2</td>\n",
       "      <td>1.140507</td>\n",
       "      <td>1.149526</td>\n",
       "      <td>00:00</td>\n",
       "    </tr>\n",
       "  </tbody>\n",
       "</table>"
      ],
      "text/plain": [
       "<IPython.core.display.HTML object>"
      ]
     },
     "metadata": {},
     "output_type": "display_data"
    }
   ],
   "source": [
    "model.fit(x, y, bs, epochs=3, lr=1e-1)"
   ]
  },
  {
   "cell_type": "code",
   "execution_count": null,
   "metadata": {},
   "outputs": [
    {
     "data": {
      "text/plain": [
       "array([[0.252873, 0.415113, 0.332014],\n",
       "       [0.260588, 0.400858, 0.338554]], dtype=float32)"
      ]
     },
     "execution_count": null,
     "metadata": {},
     "output_type": "execute_result"
    }
   ],
   "source": [
    "preds = model.predict(x[:2])\n",
    "preds"
   ]
  },
  {
   "cell_type": "markdown",
   "metadata": {},
   "source": [
    "As can be seen the sum of the probabilities are 1."
   ]
  },
  {
   "cell_type": "code",
   "execution_count": null,
   "metadata": {},
   "outputs": [
    {
     "data": {
      "text/plain": [
       "array([[1.],\n",
       "       [1.]], dtype=float32)"
      ]
     },
     "execution_count": null,
     "metadata": {},
     "output_type": "execute_result"
    }
   ],
   "source": [
    "preds.sum(axis=-1, keepdims=True)"
   ]
  },
  {
   "cell_type": "code",
   "execution_count": null,
   "metadata": {},
   "outputs": [
    {
     "name": "stdout",
     "output_type": "stream",
     "text": [
      "Converted Activations.ipynb.\n",
      "Converted Layers.ipynb.\n",
      "Converted Model.ipynb.\n",
      "Converted cifar.ipynb.\n",
      "Converted data.ipynb.\n",
      "Converted index.ipynb.\n",
      "Converted losses.ipynb.\n"
     ]
    }
   ],
   "source": [
    "# hide\n",
    "from nbdev.export import *\n",
    "notebook2script()"
   ]
  },
  {
   "cell_type": "code",
   "execution_count": null,
   "metadata": {},
   "outputs": [],
   "source": []
  }
 ],
 "metadata": {
  "kernelspec": {
   "display_name": "Python 3",
   "language": "python",
   "name": "python3"
  }
 },
 "nbformat": 4,
 "nbformat_minor": 4
}
